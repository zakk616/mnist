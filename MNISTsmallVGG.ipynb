{
 "cells": [
  {
   "cell_type": "code",
   "execution_count": 16,
   "id": "popular-knife",
   "metadata": {},
   "outputs": [
    {
     "name": "stdout",
     "output_type": "stream",
     "text": [
      "['0', '1', '2', '3', '4', '5', '6', '7', '8', '9']\n"
     ]
    }
   ],
   "source": [
    "import os\n",
    "folder = \"dataset\"  # type: str\n",
    "CATEGORIES = [ f.path for f in os.scandir(folder) if f.is_dir() ]\n",
    "for i in range(len(subfolders)):\n",
    "    CATEGORIES[i] = subfolders[i].replace('dataset\\\\', '')\n",
    "    \n",
    "print(CATEGORIES)"
   ]
  },
  {
   "cell_type": "code",
   "execution_count": 17,
   "id": "green-tutorial",
   "metadata": {},
   "outputs": [],
   "source": [
    "# import the necessary packages\n",
    "from keras.models import Sequential\n",
    "from keras.layers.normalization import BatchNormalization\n",
    "from keras.layers.convolutional import Conv2D\n",
    "from keras.layers.convolutional import MaxPooling2D\n",
    "from keras.layers.core import Activation\n",
    "from keras.layers.core import Flatten\n",
    "from keras.layers.core import Dropout\n",
    "from keras.layers.core import Dense\n",
    "from keras import backend as K"
   ]
  },
  {
   "cell_type": "code",
   "execution_count": 18,
   "id": "rational-campaign",
   "metadata": {},
   "outputs": [],
   "source": [
    "class SmallVGGNet:\n",
    "\t@staticmethod\n",
    "\tdef build(width, height, depth, classes):\n",
    "\t\t# initialize the model along with the input shape to be\n",
    "\t\t# \"channels last\" and the channels dimension itself\n",
    "\t\tmodel = Sequential()\n",
    "\t\tinputShape = (height, width, depth)\n",
    "\t\tchanDim = -1\n",
    "\n",
    "\t\t# if we are using \"channels first\", update the input shape\n",
    "\t\t# and channels dimension\n",
    "\t\tif K.image_data_format() == \"channels_first\":\n",
    "\t\t\tinputShape = (depth, height, width)\n",
    "\t\t\tchanDim = 1\n",
    "\n",
    "\t\t# CONV => RELU => POOL layer set\n",
    "\t\tmodel.add(Conv2D(32, (3, 3), padding=\"same\", input_shape=inputShape))\n",
    "\t\tmodel.add(Activation(\"relu\"))\n",
    "\t\tmodel.add(BatchNormalization(axis=chanDim))\n",
    "\t\tmodel.add(MaxPooling2D(pool_size=(2, 2)))\n",
    "\t\tmodel.add(Dropout(0.25))\n",
    "\n",
    "\t\t# (CONV => RELU) * 2 => POOL layer set\n",
    "\t\tmodel.add(Conv2D(64, (3, 3), padding=\"same\"))\n",
    "\t\tmodel.add(Activation(\"relu\"))\n",
    "\t\tmodel.add(BatchNormalization(axis=chanDim))\n",
    "\t\tmodel.add(Conv2D(64, (3, 3), padding=\"same\"))\n",
    "\t\tmodel.add(Activation(\"relu\"))\n",
    "\t\tmodel.add(BatchNormalization(axis=chanDim))\n",
    "\t\tmodel.add(MaxPooling2D(pool_size=(2, 2)))\n",
    "\t\tmodel.add(Dropout(0.25))\n",
    "\n",
    "\t\t# (CONV => RELU) * 3 => POOL layer set\n",
    "\t\tmodel.add(Conv2D(128, (3, 3), padding=\"same\"))\n",
    "\t\tmodel.add(Activation(\"relu\"))\n",
    "\t\tmodel.add(BatchNormalization(axis=chanDim))\n",
    "\t\tmodel.add(Conv2D(128, (3, 3), padding=\"same\"))\n",
    "\t\tmodel.add(Activation(\"relu\"))\n",
    "\t\tmodel.add(BatchNormalization(axis=chanDim))\n",
    "\t\tmodel.add(Conv2D(128, (3, 3), padding=\"same\"))\n",
    "\t\tmodel.add(Activation(\"relu\"))\n",
    "\t\tmodel.add(BatchNormalization(axis=chanDim))\n",
    "\t\tmodel.add(MaxPooling2D(pool_size=(2, 2)))\n",
    "\t\tmodel.add(Dropout(0.25))\n",
    "\n",
    "\t\t# first (and only) set of FC => RELU layers\n",
    "\t\tmodel.add(Flatten())\n",
    "\t\tmodel.add(Dense(512))\n",
    "\t\tmodel.add(Activation(\"relu\"))\n",
    "\t\tmodel.add(BatchNormalization())\n",
    "\t\tmodel.add(Dropout(0.5))\n",
    "\n",
    "\t\t# softmax classifier\n",
    "\t\tmodel.add(Dense(classes))\n",
    "\t\tmodel.add(Activation(\"softmax\"))\n",
    "\n",
    "\t\t# return the constructed network architecture\n",
    "\t\treturn model"
   ]
  },
  {
   "cell_type": "code",
   "execution_count": 19,
   "id": "protected-intensity",
   "metadata": {},
   "outputs": [],
   "source": [
    "from sklearn.preprocessing import LabelBinarizer\n",
    "from sklearn.model_selection import train_test_split\n",
    "from sklearn.metrics import classification_report\n",
    "from keras.preprocessing.image import ImageDataGenerator\n",
    "from keras.optimizers import SGD\n",
    "from imutils import paths\n",
    "import matplotlib.pyplot as plt\n",
    "import numpy as np\n",
    "import argparse\n",
    "import random\n",
    "import pickle\n",
    "import cv2\n",
    "import os"
   ]
  },
  {
   "cell_type": "code",
   "execution_count": 20,
   "id": "abstract-festival",
   "metadata": {},
   "outputs": [
    {
     "name": "stdout",
     "output_type": "stream",
     "text": [
      "[INFO] loading images...\n"
     ]
    }
   ],
   "source": [
    "# initialize the data and labels\n",
    "print(\"[INFO] loading images...\")\n",
    "data = []\n",
    "labels = []"
   ]
  },
  {
   "cell_type": "code",
   "execution_count": 21,
   "id": "identical-photograph",
   "metadata": {},
   "outputs": [],
   "source": [
    "DATADIR = \"D:\\MSCS\\Research\\image processing\\mnist\\dataset\""
   ]
  },
  {
   "cell_type": "code",
   "execution_count": 22,
   "id": "revised-killing",
   "metadata": {},
   "outputs": [
    {
     "data": {
      "image/png": "[encoded data removed]",
      "text/plain": [
       "<Figure size 432x288 with 1 Axes>"
      ]
     },
     "metadata": {
      "needs_background": "light"
     },
     "output_type": "display_data"
    }
   ],
   "source": [
    "for category in CATEGORIES:  # do dogs and cats\n",
    "    path = os.path.join(DATADIR, category)\n",
    "    for img in os.listdir(path):  # iterate over each image per dogs and cats\n",
    "        img_array = cv2.imread(os.path.join(path, img))  # convert to array\n",
    "        plt.imshow(img_array, cmap='gray')  # graph it\n",
    "        plt.show()  # display!\n",
    "        break  # we just want one for now so break\n",
    "    break  #...and one more!"
   ]
  },
  {
   "cell_type": "code",
   "execution_count": 28,
   "id": "intermediate-radius",
   "metadata": {},
   "outputs": [
    {
     "data": {
      "image/png": "[encoded data removed]",
      "text/plain": [
       "<Figure size 432x288 with 1 Axes>"
      ]
     },
     "metadata": {
      "needs_background": "light"
     },
     "output_type": "display_data"
    }
   ],
   "source": [
    "IMG_SIZE = 28\n",
    "new_array = cv2.resize(img_array, (IMG_SIZE, IMG_SIZE))\n",
    "plt.imshow(new_array, cmap='gray')\n",
    "plt.show()"
   ]
  },
  {
   "cell_type": "code",
   "execution_count": 29,
   "id": "smoking-thought",
   "metadata": {},
   "outputs": [],
   "source": [
    "from tqdm import tqdm\n",
    "training_data = []\n",
    "def create_training_data():\n",
    "    for category in CATEGORIES:  # do dogs and cats\n",
    "        path = os.path.join(DATADIR, category)  # create path to dogs and cats\n",
    "        class_num = CATEGORIES.index(category)  # get the classification  (0 or a 1). 0=dog 1=cat\n",
    "\n",
    "        for img in tqdm(os.listdir(path)):  # iterate over each image per dogs and cats\n",
    "            try:\n",
    "                img_array = cv2.imread(os.path.join(path, img))  # convert to array\n",
    "                new_array = cv2.resize(img_array, (IMG_SIZE, IMG_SIZE))  # resize to normalize data size\n",
    "                training_data.append([new_array, class_num])  # add this to our training_data\n",
    "            except Exception as e:  # in the interest in keeping the output clean...\n",
    "                pass\n",
    "            #except OSError as e:\n",
    "            #    print(\"OSErrroBad img most likely\", e, os.path.join(path,img))\n",
    "            #except Exception as e:\n",
    "            #    print(\"general exception\", e, os.path.join(path,img))"
   ]
  },
  {
   "cell_type": "code",
   "execution_count": 30,
   "id": "oriented-march",
   "metadata": {},
   "outputs": [
    {
     "name": "stderr",
     "output_type": "stream",
     "text": [
      "100%|█████████████████████████████████████| 4132/4132 [00:09<00:00, 452.00it/s]\n",
      "100%|█████████████████████████████████████| 4684/4684 [00:08<00:00, 528.88it/s]\n",
      "100%|█████████████████████████████████████| 4177/4177 [00:07<00:00, 533.91it/s]\n",
      "100%|█████████████████████████████████████| 4351/4351 [00:05<00:00, 753.25it/s]\n",
      "100%|████████████████████████████████████| 4072/4072 [00:03<00:00, 1038.72it/s]\n",
      "100%|█████████████████████████████████████| 3795/3795 [00:07<00:00, 501.76it/s]\n",
      "100%|█████████████████████████████████████| 4137/4137 [00:06<00:00, 659.98it/s]\n",
      "100%|█████████████████████████████████████| 4401/4401 [00:06<00:00, 664.56it/s]\n",
      "100%|█████████████████████████████████████| 4063/4063 [00:08<00:00, 477.30it/s]\n",
      "100%|█████████████████████████████████████| 4188/4188 [00:06<00:00, 642.39it/s]\n"
     ]
    }
   ],
   "source": [
    "create_training_data()"
   ]
  },
  {
   "cell_type": "code",
   "execution_count": 31,
   "id": "dress-patent",
   "metadata": {},
   "outputs": [
    {
     "name": "stdout",
     "output_type": "stream",
     "text": [
      "(42000, 28, 28, 3)\n",
      "(42000,)\n"
     ]
    }
   ],
   "source": [
    "import random\n",
    "random.shuffle(training_data)\n",
    "\n",
    "data = []\n",
    "labels = []\n",
    "\n",
    "for features, label in training_data:\n",
    "    data.append(features)\n",
    "    labels.append(label)\n",
    "\n",
    "data = np.array(data, dtype=\"float\") / 255.0\n",
    "labels = np.array(labels)\n",
    "\n",
    "print(data.shape)\n",
    "print(labels.shape)"
   ]
  },
  {
   "cell_type": "code",
   "execution_count": 32,
   "id": "married-correlation",
   "metadata": {},
   "outputs": [],
   "source": [
    "(trainX, testX, trainY, testY) = train_test_split(data,\n",
    "\tlabels, test_size=0.25, random_state=42)"
   ]
  },
  {
   "cell_type": "code",
   "execution_count": 33,
   "id": "detected-slide",
   "metadata": {},
   "outputs": [],
   "source": [
    "lb = LabelBinarizer()\n",
    "trainY = lb.fit_transform(trainY)\n",
    "testY = lb.transform(testY)"
   ]
  },
  {
   "cell_type": "code",
   "execution_count": 34,
   "id": "pacific-priest",
   "metadata": {},
   "outputs": [],
   "source": [
    "aug = ImageDataGenerator(rotation_range=30, width_shift_range=0.1,\n",
    "\theight_shift_range=0.1, shear_range=0.2, zoom_range=0.2,\n",
    "\thorizontal_flip=True, fill_mode=\"nearest\")"
   ]
  },
  {
   "cell_type": "code",
   "execution_count": 37,
   "id": "precious-toronto",
   "metadata": {},
   "outputs": [],
   "source": [
    "model = SmallVGGNet.build(width=28, height=28, depth=3,\n",
    "\tclasses=len(lb.classes_))"
   ]
  },
  {
   "cell_type": "code",
   "execution_count": 39,
   "id": "bottom-bidding",
   "metadata": {
    "scrolled": true
   },
   "outputs": [
    {
     "name": "stdout",
     "output_type": "stream",
     "text": [
      "[INFO] training network...\n",
      "Epoch 1/10\n",
      "984/984 [==============================] - 302s 304ms/step - loss: 1.4089 - accuracy: 0.5579 - val_loss: 0.4016 - val_accuracy: 0.8673\n",
      "Epoch 2/10\n",
      "984/984 [==============================] - 365s 371ms/step - loss: 0.6388 - accuracy: 0.7881 - val_loss: 0.2096 - val_accuracy: 0.9330\n",
      "Epoch 3/10\n",
      "984/984 [==============================] - 331s 336ms/step - loss: 0.5089 - accuracy: 0.8365 - val_loss: 0.1867 - val_accuracy: 0.9408\n",
      "Epoch 4/10\n",
      "984/984 [==============================] - 354s 360ms/step - loss: 0.4594 - accuracy: 0.8527 - val_loss: 0.2321 - val_accuracy: 0.9290\n",
      "Epoch 5/10\n",
      "984/984 [==============================] - 323s 328ms/step - loss: 0.4133 - accuracy: 0.8654 - val_loss: 0.1700 - val_accuracy: 0.9470\n",
      "Epoch 6/10\n",
      "984/984 [==============================] - 321s 327ms/step - loss: 0.3857 - accuracy: 0.8747 - val_loss: 0.1427 - val_accuracy: 0.9548\n",
      "Epoch 7/10\n",
      "984/984 [==============================] - 312s 317ms/step - loss: 0.3665 - accuracy: 0.8839 - val_loss: 0.1413 - val_accuracy: 0.9544\n",
      "Epoch 8/10\n",
      "984/984 [==============================] - 319s 324ms/step - loss: 0.3491 - accuracy: 0.8909 - val_loss: 0.1520 - val_accuracy: 0.9520\n",
      "Epoch 9/10\n",
      "984/984 [==============================] - 318s 323ms/step - loss: 0.3427 - accuracy: 0.8894 - val_loss: 0.1209 - val_accuracy: 0.9620\n",
      "Epoch 10/10\n",
      "984/984 [==============================] - 324s 329ms/step - loss: 0.3330 - accuracy: 0.8952 - val_loss: 0.1180 - val_accuracy: 0.9643\n"
     ]
    }
   ],
   "source": [
    "INIT_LR = 0.01\n",
    "EPOCHS = 10\n",
    "BS = 32\n",
    "# initialize the model and optimizer (you'll want to use\n",
    "# binary_crossentropy for 2-class classification)\n",
    "print(\"[INFO] training network...\")\n",
    "opt = SGD(lr=INIT_LR, decay=INIT_LR / EPOCHS)\n",
    "model.compile(loss=\"categorical_crossentropy\", optimizer=opt, metrics=[\"accuracy\"])\n",
    "# train the network\n",
    "H = model.fit(x=aug.flow(trainX, trainY, batch_size=BS), validation_data=(testX, testY), steps_per_epoch=len(trainX) // BS, epochs=EPOCHS)"
   ]
  },
  {
   "cell_type": "code",
   "execution_count": 40,
   "id": "interracial-alberta",
   "metadata": {},
   "outputs": [
    {
     "data": {
      "text/plain": [
       "<matplotlib.legend.Legend at 0x22ec6cc0>"
      ]
     },
     "execution_count": 40,
     "metadata": {},
     "output_type": "execute_result"
    },
    {
     "data": {
      "image/png": "[encoded data removed]",
      "text/plain": [
       "<Figure size 432x288 with 1 Axes>"
      ]
     },
     "metadata": {},
     "output_type": "display_data"
    }
   ],
   "source": [
    "N = np.arange(0, EPOCHS)\n",
    "plt.style.use(\"ggplot\")\n",
    "plt.figure()\n",
    "plt.plot(N, H.history[\"loss\"], label=\"train_loss\")\n",
    "plt.plot(N, H.history[\"val_loss\"], label=\"val_loss\")\n",
    "plt.plot(N, H.history[\"accuracy\"], label=\"train_acc\")\n",
    "plt.plot(N, H.history[\"val_accuracy\"], label=\"val_acc\")\n",
    "plt.title(\"Training Loss and Accuracy (SmallVGGNet)\")\n",
    "plt.xlabel(\"Epoch #\")\n",
    "plt.ylabel(\"Loss/Accuracy\")\n",
    "plt.legend()"
   ]
  },
  {
   "cell_type": "code",
   "execution_count": 173,
   "id": "compliant-structure",
   "metadata": {},
   "outputs": [
    {
     "name": "stdout",
     "output_type": "stream",
     "text": [
      "8\n"
     ]
    }
   ],
   "source": [
    "import cv2\n",
    "import numpy as np\n",
    "import tensorflow as tf\n",
    "\n",
    "def prepare(filepath):\n",
    "    IMG_SIZE = 28\n",
    "    img_array = cv2.imread(filepath)\n",
    "    img_array = cv2.resize(img_array, (IMG_SIZE, IMG_SIZE))\n",
    "    img_array = np.array(img_array, dtype=\"float\") / 255.0\n",
    "    img_array = img_array.reshape(-1, IMG_SIZE, IMG_SIZE, 3)\n",
    "    return img_array\n",
    "\n",
    "path=r'D:\\MSCS\\Research\\image processing\\mnist\\dataset\\8\\img_10.jpg'\n",
    "prediction = model.predict(prepare(path))\n",
    "\n",
    "maximum = 0\n",
    "index = 0\n",
    "for i in range(len(CATEGORIES)):\n",
    "    if (prediction[0][i]) > maximum:\n",
    "        index = i\n",
    "        maximum = prediction[0][i]\n",
    "print(CATEGORIES[index])"
   ]
  },
  {
   "cell_type": "code",
   "execution_count": 164,
   "id": "german-baker",
   "metadata": {},
   "outputs": [
    {
     "name": "stdout",
     "output_type": "stream",
     "text": [
      "INFO:tensorflow:Assets written to: D:\\MSCS\\Research\\image processing\\mnist\\mnist.model\\assets\n"
     ]
    }
   ],
   "source": [
    "model.save(\"D:\\MSCS\\Research\\image processing\\mnist\\mnist.model\")"
   ]
  }
 ],
 "metadata": {
  "kernelspec": {
   "display_name": "Python 3",
   "language": "python",
   "name": "python3"
  },
  "language_info": {
   "codemirror_mode": {
    "name": "ipython",
    "version": 3
   },
   "file_extension": ".py",
   "mimetype": "text/x-python",
   "name": "python",
   "nbconvert_exporter": "python",
   "pygments_lexer": "ipython3",
   "version": "3.7.0"
  }
 },
 "nbformat": 4,
 "nbformat_minor": 5
}
