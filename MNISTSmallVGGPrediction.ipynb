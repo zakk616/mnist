{
 "cells": [
  {
   "cell_type": "code",
   "execution_count": 1,
   "id": "convinced-harassment",
   "metadata": {},
   "outputs": [],
   "source": [
    "from keras.models import load_model\n",
    "import argparse\n",
    "import cv2"
   ]
  },
  {
   "cell_type": "code",
   "execution_count": 28,
   "id": "becoming-recording",
   "metadata": {},
   "outputs": [],
   "source": [
    "path = \"D:\\MSCS\\Research\\image processing\\keras-tutorial\\images\\dog.jpg\"\n",
    "img_size = 64\n",
    "image = cv2.imread(path)\n",
    "output = image.copy()\n",
    "image = cv2.resize(image, (img_size, img_size))"
   ]
  },
  {
   "cell_type": "code",
   "execution_count": 30,
   "id": "backed-pride",
   "metadata": {},
   "outputs": [],
   "source": [
    "image = image.astype(\"float\") / 255.0"
   ]
  },
  {
   "cell_type": "code",
   "execution_count": 31,
   "id": "rental-private",
   "metadata": {},
   "outputs": [],
   "source": [
    "image = image.reshape((1, image.shape[0], image.shape[1], image.shape[2]))"
   ]
  },
  {
   "cell_type": "code",
   "execution_count": 32,
   "id": "above-japanese",
   "metadata": {},
   "outputs": [],
   "source": [
    "model = load_model(\"D:\\MSCS\\Research\\image processing\\keras-tutorial\\SmallVGG.model\")"
   ]
  },
  {
   "cell_type": "code",
   "execution_count": 33,
   "id": "amino-stroke",
   "metadata": {},
   "outputs": [
    {
     "name": "stdout",
     "output_type": "stream",
     "text": [
      "[[0.17272088 0.14383958 0.68343955]]\n"
     ]
    }
   ],
   "source": [
    "preds = model.predict(image)\n",
    "print(preds)"
   ]
  },
  {
   "cell_type": "code",
   "execution_count": 34,
   "id": "incoming-modem",
   "metadata": {},
   "outputs": [
    {
     "name": "stdout",
     "output_type": "stream",
     "text": [
      "panda: 68.34%\n"
     ]
    }
   ],
   "source": [
    "i = preds.argmax(axis=1)[0]\n",
    "CATEGORIES = [\"cat\", \"dog\", \"panda\"]\n",
    "num = 0\n",
    "for i in range(len(CATEGORIES)):\n",
    "    if (preds[0][i]*100) > num:\n",
    "        num = i\n",
    "\n",
    "text = \"{}: {:.2f}%\".format(CATEGORIES[num], preds[0][i] * 100)\n",
    "print(text)"
   ]
  },
  {
   "cell_type": "code",
   "execution_count": 35,
   "id": "partial-guide",
   "metadata": {},
   "outputs": [
    {
     "data": {
      "text/plain": [
       "-1"
      ]
     },
     "execution_count": 35,
     "metadata": {},
     "output_type": "execute_result"
    }
   ],
   "source": [
    "cv2.putText(output, text, (10, 30), cv2.FONT_HERSHEY_SIMPLEX, 0.7, (0, 0, 255), 2)\n",
    "\n",
    "# show the output image\n",
    "cv2.imshow(\"Image\", output)\n",
    "cv2.waitKey(0)"
   ]
  },
  {
   "cell_type": "code",
   "execution_count": null,
   "id": "textile-polls",
   "metadata": {},
   "outputs": [],
   "source": []
  }
 ],
 "metadata": {
  "kernelspec": {
   "display_name": "Python 3",
   "language": "python",
   "name": "python3"
  },
  "language_info": {
   "codemirror_mode": {
    "name": "ipython",
    "version": 3
   },
   "file_extension": ".py",
   "mimetype": "text/x-python",
   "name": "python",
   "nbconvert_exporter": "python",
   "pygments_lexer": "ipython3",
   "version": "3.7.0"
  }
 },
 "nbformat": 4,
 "nbformat_minor": 5
}
